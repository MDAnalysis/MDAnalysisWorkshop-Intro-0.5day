{
 "cells": [
  {
   "cell_type": "markdown",
   "metadata": {},
   "source": [
    "# Tutorial 3.  Interactive Visualization in Blender\n",
    "\n",
    "\n",
    "<a rel=\"license\" href=\"http://creativecommons.org/licenses/by/4.0/\"><img alt=\"Creative Commons Licence\" style=\"border-width:0\" src=\"https://i.creativecommons.org/l/by/4.0/88x31.png\" title='This work is licensed under a Creative Commons Attribution 4.0 International License.' align=\"right\"/></a>\n",
    "\n",
    "Authors: \n",
    "\n",
    "- Dr Yuxuan Zhuang - yuxuan.zhuang@stanford.edu \n",
    "\n",
    "This notebook is used for MDAnalysis Workshop, February 2024. As most of the APIs are not stable, please check the changes in the latest version of MolecularNodes before using this notebook.\n"
   ]
  },
  {
   "cell_type": "markdown",
   "metadata": {},
   "source": [
    "**Note**:\n",
    "This notebook cannot be run on Google Colab.\n",
    "To run it, you will need to have a local installation of [Blender](https://www.blender.org/download/), [MolecularNodes](https://github.com/BradyAJohnston/MolecularNodes), and [BNoteBooks](https://github.com/BradyAJohnston/bnotebooks). See install instructions in INSTALL.md."
   ]
  },
  {
   "cell_type": "markdown",
   "metadata": {},
   "source": [
    "## **Jupyter cheat sheet**:\n",
    "- to run the currently highlighted cell, hold <kbd>&#x21E7; Shift</kbd> and press <kbd>&#x23ce; Enter</kbd>;\n",
    "- to get help for a specific function, place the cursor within the function's brackets, hold <kbd>&#x21E7; Shift</kbd>, and press <kbd>&#x21E5; Tab</kbd>;"
   ]
  },
  {
   "cell_type": "markdown",
   "metadata": {},
   "source": [
    "\n",
    "## Learning outcomes:\n",
    "\n",
    "* Understand how to use BNoteBooks to create interactive visualizations in Blender.\n",
    "* Understand how to use MolecularNodes to visualize molecular structures with MDAnalysis in an interactive way.\n",
    "* Show how to use Blender for advanced visualization of analysis results."
   ]
  },
  {
   "cell_type": "markdown",
   "metadata": {},
   "source": [
    "## Table of Contents\n",
    "\n",
    "1. [MDAnalysisSession](#mdasession)  \n",
    "2. [Advanced visualization](#advanced)"
   ]
  },
  {
   "cell_type": "markdown",
   "metadata": {},
   "source": [
    "### Imports\n",
    "\n",
    "We start by importing the necessary libraries, setting up the Blender, and downloading the necessary files."
   ]
  },
  {
   "cell_type": "code",
   "execution_count": 5,
   "metadata": {},
   "outputs": [],
   "source": [
    "import os\n",
    "import bpy\n",
    "import numpy as np\n",
    "import molecularnodes as mn\n",
    "from molecularnodes.io.parse.mda import MDAnalysisSession\n",
    "\n",
    "import MDAnalysis as mda"
   ]
  },
  {
   "cell_type": "code",
   "execution_count": 6,
   "metadata": {},
   "outputs": [],
   "source": [
    "# set render engine to cycles and device to GPU if available\n",
    "bpy.context.scene.render.engine = 'CYCLES'\n",
    "# bpy.context.scene.cycles.device = \"GPU\""
   ]
  },
  {
   "cell_type": "code",
   "execution_count": 7,
   "metadata": {},
   "outputs": [
    {
     "name": "stderr",
     "output_type": "stream",
     "text": [
      "/Applications/Blender.app/Contents/Resources/4.0/python/lib/python3.10/site-packages/MDAnalysis/coordinates/DCD.py:165: DeprecationWarning: DCDReader currently makes independent timesteps by copying self.ts while other readers update self.ts inplace. This behavior will be changed in 3.0 to be the same as other readers. Read more at https://github.com/MDAnalysis/mdanalysis/issues/3889 to learn if this change in behavior might affect you.\n",
      "  warnings.warn(\"DCDReader currently makes independent timesteps\"\n"
     ]
    }
   ],
   "source": [
    "# Load trajectory in MDAnalysis\n",
    "# import MDAnalysisData\n",
    "# MDAnalysisData.download(MDAnalysisData.adk_equilibrium.fetch_adk_equilibrium)\n",
    "\n",
    "mda_data_folder = os.path.expanduser('~') + '/MDAnalysis_data/'\n",
    "u = mda.Universe(f'{mda_data_folder}/adk_equilibrium/adk4AKE.psf',\n",
    "                 f'{mda_data_folder}/adk_equilibrium/1ake_007-nowater-core-dt240ps.dcd')"
   ]
  },
  {
   "cell_type": "markdown",
   "metadata": {},
   "source": [
    "## MDAnalysisSession\n",
    "<a id='mdasession'></a>\n",
    "\n",
    "\n",
    "We will use the `MDAnalysisSession` class to create a Blender scene. `Universe` and `Atomgroup` can be visualized in Blender using the `MDAnalysisSession` class. "
   ]
  },
  {
   "cell_type": "code",
   "execution_count": 8,
   "metadata": {},
   "outputs": [],
   "source": [
    "# Create an MDAnalysis session for interacting with Blender\n",
    "\n",
    "mda_session = MDAnalysisSession()"
   ]
  },
  {
   "cell_type": "code",
   "execution_count": 9,
   "metadata": {},
   "outputs": [
    {
     "name": "stdout",
     "output_type": "stream",
     "text": [
      "appending material\n"
     ]
    },
    {
     "data": {
      "text/plain": [
       "bpy.data.objects['atoms']"
      ]
     },
     "execution_count": 9,
     "metadata": {},
     "output_type": "execute_result"
    }
   ],
   "source": [
    "# Show the trajectory in Blender\n",
    "\n",
    "mda_session.show(u)"
   ]
  },
  {
   "cell_type": "code",
   "execution_count": 10,
   "metadata": {},
   "outputs": [
    {
     "data": {
      "text/plain": [
       "bpy.data.objects['protein']"
      ]
     },
     "execution_count": 10,
     "metadata": {},
     "output_type": "execute_result"
    }
   ],
   "source": [
    "# Alternatively, show only the protein and other custom selections\n",
    "\n",
    "custom_selections = {'resid_33': 'resid 33',\n",
    "                     'resid_156': 'resid 156',\n",
    "                    }\n",
    "mda_session.show(u,\n",
    "                 selection='protein',\n",
    "                 name='protein',\n",
    "                 custom_selections=custom_selections\n",
    "                )"
   ]
  },
  {
   "cell_type": "code",
   "execution_count": 11,
   "metadata": {},
   "outputs": [],
   "source": [
    "# add position averager transformation\n",
    "\n",
    "from MDAnalysis.transformations import PositionAverager\n",
    "\n",
    "transformation = PositionAverager(10, check_reset=True)\n",
    "u.trajectory.add_transformations(transformation)"
   ]
  },
  {
   "cell_type": "code",
   "execution_count": 12,
   "metadata": {},
   "outputs": [
    {
     "name": "stdout",
     "output_type": "stream",
     "text": [
      "Info: Total files 11 | Changed 11 | Failed 0\n",
      "Info: Saved \"blender_and_mda.blend\"\n"
     ]
    },
    {
     "data": {
      "text/plain": [
       "{'FINISHED'}"
      ]
     },
     "execution_count": 12,
     "metadata": {},
     "output_type": "execute_result"
    }
   ],
   "source": [
    "# save the .blend file\n",
    "\n",
    "file_path = \"blender_and_mda.blend\"\n",
    "\n",
    "bpy.ops.wm.save_as_mainfile(filepath=file_path)\n",
    "\n",
    "# the .blend file can be opened by\n",
    "# file_path = \"blender_and_mda.blend\"\n",
    "# bpy.ops.wm.open_mainfile(filepath=file_path)\n",
    "# mda_session = bpy.context.scene.mda_session"
   ]
  },
  {
   "cell_type": "markdown",
   "metadata": {},
   "source": [
    "## Advanced usage\n",
    "<a id='advanced'></a>\n",
    "\n",
    "The example provided demonstrates a prototype for visualizing interatomic distances using Blender.\n",
    "\n",
    "It features the power of Blender to manipulate and visualize the data in a 3D environment. It will also be our ongoing effort to develop a more user-friendly and interactive visualization tool for analysis results in MDAnalysis."
   ]
  },
  {
   "cell_type": "code",
   "execution_count": 13,
   "metadata": {},
   "outputs": [],
   "source": [
    "from bpy.app.handlers import persistent\n",
    "\n",
    "class Distance_in_Blender:\n",
    "    \"\"\"\n",
    "    Dispaly distance between two atomgroups in Blender\n",
    "    \"\"\"\n",
    "    def __init__(self, coord1_arr, coord2_arr, dist_arr, world_scale=0.01):\n",
    "        self.coord1_arr = coord1_arr\n",
    "        self.coord2_arr = coord2_arr\n",
    "        self.dist_arr = dist_arr\n",
    "        self.n_frames = len(dist_arr)\n",
    "        self.world_scale = world_scale\n",
    "        self.draw()\n",
    "        bpy.app.handlers.frame_change_post.append(self._update_position_handler_wrapper())\n",
    "\n",
    "    def draw(self, name='distance'):\n",
    "        line_data = bpy.data.curves.new(name=name, type='CURVE')\n",
    "        line_data.dimensions = '3D'\n",
    "        line_object = bpy.data.objects.new(f\"{name}_line\", line_data)\n",
    "        bpy.context.collection.objects.link(line_object)\n",
    "        bpy.context.view_layer.objects.active = line_object\n",
    "\n",
    "        text_data = bpy.data.curves.new(name=name, type='FONT')\n",
    "        text_object = bpy.data.objects.new(f\"{name}_text\", text_data)\n",
    "        bpy.context.collection.objects.link(text_object)\n",
    "        \n",
    "        text_data.size = 8 * self.world_scale\n",
    "        text_data.align_x = 'CENTER'\n",
    "        text_data.align_y = 'CENTER'\n",
    "        \n",
    "        line = line_data.splines.new('POLY')\n",
    "        line.points.add(1)\n",
    "\n",
    "        self.line_data = line_data\n",
    "        self.line_object = line_object\n",
    "        self.text_data = text_data\n",
    "        self.text_object = text_object\n",
    "        self.line = line\n",
    "        self._update_trajectory(0)\n",
    "\n",
    "        line.resolution_u = 4\n",
    "        line.use_cyclic_u = False\n",
    "        line.use_endpoint_u = True\n",
    "        line.use_endpoint_v = True\n",
    "        line.use_smooth = False\n",
    "    \n",
    "    @persistent\n",
    "    def _update_trajectory(self, frame):\n",
    "        coord1 = self.coord1_arr[frame]\n",
    "        coord2 = self.coord2_arr[frame]\n",
    "        dist = np.mean(self.dist_arr[frame])\n",
    "        \n",
    "        if frame < 0:\n",
    "            return\n",
    "        elif frame >= self.n_frames:\n",
    "            return\n",
    "\n",
    "        for point, coord in zip(self.line.points, [coord1, coord2]):\n",
    "            coord = list(coord * self.world_scale)\n",
    "            point.co = (coord[0], coord[1], coord[2], 1)\n",
    "        self.text_data.body = f'{dist:.1f} Å'\n",
    "        \n",
    "        middle_coord = np.mean([coord1, coord2], axis=0)\n",
    "        self.text_object.location = middle_coord * self.world_scale\n",
    "        # rotate the text object to face the camera\n",
    "        self.text_object.rotation_euler = bpy.context.scene.camera.rotation_euler\n",
    "\n",
    "    @persistent\n",
    "    def _update_position_handler_wrapper(self):\n",
    "        def update_position_handler(scene):\n",
    "            frame = scene.frame_current\n",
    "            self._update_trajectory(frame)\n",
    "        return update_position_handler"
   ]
  },
  {
   "cell_type": "code",
   "execution_count": 14,
   "metadata": {},
   "outputs": [
    {
     "name": "stderr",
     "output_type": "stream",
     "text": [
      "/Applications/Blender.app/Contents/Resources/4.0/python/lib/python3.10/site-packages/MDAnalysis/transformations/positionaveraging.py:193: Warning: Cannot average position for non sequentialiterations. Averager will be reset.\n",
      "  warnings.warn('Cannot average position for non sequential'\n"
     ]
    }
   ],
   "source": [
    "# run analysis\n",
    "\n",
    "from MDAnalysis.analysis import distances\n",
    "\n",
    "res_33_asp = u.select_atoms('resid 33')\n",
    "res_156_arg = u.select_atoms('resid 156')\n",
    "\n",
    "coord1_arr = []\n",
    "coord2_arr = []\n",
    "dist_arr = []\n",
    "for ts in u.trajectory:\n",
    "    com_res_33 = res_33_asp.center_of_mass()\n",
    "    com_res_156 = res_156_arg.center_of_mass()\n",
    "    dist_arr.append(distances.distance_array(com_res_33,\n",
    "                                             com_res_156,\n",
    "                                             box=u.dimensions))\n",
    "\n",
    "    coord1_arr.append(com_res_33)\n",
    "    coord2_arr.append(com_res_156)"
   ]
  },
  {
   "cell_type": "code",
   "execution_count": 15,
   "metadata": {},
   "outputs": [],
   "source": [
    "dist_render = Distance_in_Blender(coord1_arr,\n",
    "                                  coord2_arr,\n",
    "                                  dist_arr,\n",
    "                                  world_scale=mda_session.world_scale)"
   ]
  }
 ],
 "metadata": {
  "kernelspec": {
   "display_name": "blender_4.0.2",
   "language": "python",
   "name": "blender_4.0.2"
  },
  "language_info": {
   "codemirror_mode": {
    "name": "ipython",
    "version": 3
   },
   "file_extension": ".py",
   "mimetype": "text/x-python",
   "name": "python",
   "nbconvert_exporter": "python",
   "pygments_lexer": "ipython3",
   "version": "3.10.13"
  }
 },
 "nbformat": 4,
 "nbformat_minor": 2
}
