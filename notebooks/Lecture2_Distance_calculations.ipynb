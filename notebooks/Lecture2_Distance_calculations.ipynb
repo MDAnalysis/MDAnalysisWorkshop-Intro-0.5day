{
 "cells": [
  {
   "cell_type": "markdown",
   "metadata": {
    "slideshow": {
     "slide_type": "slide"
    }
   },
   "source": [
    "# <center> Workshop - Intro to MDAnalysis Part 2</center>\n"
   ]
  },
  {
   "cell_type": "markdown",
   "metadata": {
    "slideshow": {
     "slide_type": "skip"
    }
   },
   "source": [
    "## Google Colab package installs\n",
    "\n",
    "This installs the necessary packages for Google Colab. Please only run these if you are using Colab."
   ]
  },
  {
   "cell_type": "code",
   "execution_count": null,
   "metadata": {
    "slideshow": {
     "slide_type": "skip"
    }
   },
   "outputs": [],
   "source": [
    "# NBVAL_SKIP\n",
    "!pip install condacolab\n",
    "import condacolab\n",
    "condacolab.install()"
   ]
  },
  {
   "cell_type": "code",
   "execution_count": null,
   "metadata": {
    "slideshow": {
     "slide_type": "skip"
    }
   },
   "outputs": [],
   "source": [
    "# NBVAL_SKIP\n",
    "import condacolab\n",
    "condacolab.check()\n",
    "!mamba install -c conda-forge mdanalysis mdanalysistests"
   ]
  },
  {
   "cell_type": "markdown",
   "metadata": {
    "slideshow": {
     "slide_type": "slide"
    }
   },
   "source": [
    "# Distance calculations in MDAnalysis"
   ]
  },
  {
   "cell_type": "markdown",
   "metadata": {
    "cell_style": "split",
    "slideshow": {
     "slide_type": "-"
    }
   },
   "source": [
    "Atom coordinates are in the \n",
    "`.positions` attribute of an `AtomGroup`\n",
    "\n",
    "The positions are returned as a NumPy array, which we can then readily manipulate.\n",
    "\n",
    "\n"
   ]
  },
  {
   "cell_type": "code",
   "execution_count": null,
   "metadata": {
    "cell_style": "split",
    "scrolled": true,
    "slideshow": {
     "slide_type": "-"
    }
   },
   "outputs": [],
   "source": [
    "# First we import MDAnalysis\n",
    "import MDAnalysis as mda\n",
    "from MDAnalysis.tests.datafiles import GRO, TRR\n",
    "\n",
    "u = mda.Universe(GRO, TRR)\n",
    "\n",
    "ag = u.select_atoms('protein')\n",
    "\n",
    "pos = ag.positions\n",
    "\n",
    "print(f'AtomGroup has length {len(ag)} and positions is shape {pos.shape}')\n",
    "\n",
    "pos"
   ]
  },
  {
   "cell_type": "markdown",
   "metadata": {
    "slideshow": {
     "slide_type": "subslide"
    }
   },
   "source": [
    "Some built-in functions based on position data:\n",
    "\n",
    "- `center_of_mass()`\n",
    "\n",
    "- `center_of_geometry()`\n"
   ]
  },
  {
   "cell_type": "code",
   "execution_count": null,
   "metadata": {},
   "outputs": [],
   "source": [
    "print(ag.center_of_mass())\n",
    "\n",
    "print(ag.center_of_geometry())"
   ]
  },
  {
   "cell_type": "markdown",
   "metadata": {
    "slideshow": {
     "slide_type": "slide"
    }
   },
   "source": [
    "## The `lib.distances` module"
   ]
  },
  {
   "cell_type": "markdown",
   "metadata": {
    "cell_style": "center",
    "slideshow": {
     "slide_type": "-"
    }
   },
   "source": [
    "Particle positions are given as numpy arrays, so most work can be done using numpy (and numpy derived) libraries.\n",
    "\n",
    "MDAnalysis  `lib.distances` module comes in handy when\n",
    "\n",
    "- we have periodic boundary conditions (numpy cannot handle this)\n",
    "\n",
    "- domain specific algorithms can be used\n"
   ]
  },
  {
   "cell_type": "code",
   "execution_count": null,
   "metadata": {},
   "outputs": [],
   "source": [
    "from MDAnalysis.lib import distances\n",
    "\n",
    "distances"
   ]
  },
  {
   "cell_type": "markdown",
   "metadata": {
    "slideshow": {
     "slide_type": "slide"
    }
   },
   "source": [
    "### `distance_array`"
   ]
  },
  {
   "cell_type": "markdown",
   "metadata": {
    "slideshow": {
     "slide_type": "-"
    }
   },
   "source": [
    "To calculate **all** pairwise distances between two arrays of coordinates."
   ]
  },
  {
   "cell_type": "code",
   "execution_count": null,
   "metadata": {
    "cell_style": "center",
    "scrolled": false,
    "slideshow": {
     "slide_type": "-"
    }
   },
   "outputs": [],
   "source": [
    "ag1 = u.atoms[:10]\n",
    "ag2 = u.atoms[10:30]\n",
    "\n",
    "\n",
    "da = distances.distance_array(ag1.positions, \n",
    "                              ag2.positions,\n",
    "                              box=u.dimensions)\n",
    "\n",
    "print(f'Our input atomgroups has sizes {len(ag1)} and {len(ag2)}, the output has shape: {da.shape}')\n",
    "print()\n",
    "\n",
    "print(da)"
   ]
  },
  {
   "cell_type": "markdown",
   "metadata": {
    "slideshow": {
     "slide_type": "subslide"
    }
   },
   "source": [
    "The output of distance array is a matrix of the distance between each position in the first coordinate array and each position in the second coordinate array.\n",
    "\n",
    "For example to look at the distance between the 4th and 6th atom in the two AtomGroups:"
   ]
  },
  {
   "cell_type": "code",
   "execution_count": null,
   "metadata": {},
   "outputs": [],
   "source": [
    "print(f'The distance between {ag1[3]} and {ag2[5]} is {da[3, 5]} A')"
   ]
  },
  {
   "cell_type": "markdown",
   "metadata": {
    "slideshow": {
     "slide_type": "slide"
    }
   },
   "source": [
    "### `self_distance_array`\n",
    "\n",
    "For calculating distances between all combinations of coordinates.\n",
    "\n",
    "Takes a **single array** of coordinates and calculates all pairwise distances.\n",
    "This will yield  ½ n(n-1) distances.\n"
   ]
  },
  {
   "cell_type": "code",
   "execution_count": null,
   "metadata": {
    "cell_style": "center",
    "slideshow": {
     "slide_type": "-"
    }
   },
   "outputs": [],
   "source": [
    "sda = distances.self_distance_array(ag1.positions, box=None)\n",
    "\n",
    "print(f'Our input AtomGroup has size {len(ag1)} and the output has shape {sda.shape}')\n"
   ]
  },
  {
   "cell_type": "markdown",
   "metadata": {
    "cell_style": "center",
    "slideshow": {
     "slide_type": "slide"
    }
   },
   "source": [
    "### `calc_bonds`\n",
    "\n",
    "For calculating a series of distances between pairs of coordinates.\n",
    "\n",
    "Takes 2 arrays of coordinates **of equal length**, and returns the distances between coordinate pairs in each row.\n"
   ]
  },
  {
   "cell_type": "code",
   "execution_count": null,
   "metadata": {
    "cell_style": "center"
   },
   "outputs": [],
   "source": [
    "coords1 = u.atoms[:10].positions\n",
    "coords2 = u.atoms[10:20].positions\n",
    "dist = distances.calc_bonds(coords1, \n",
    "                            coords2, \n",
    "                            box=None)\n",
    "\n",
    "print(f'The inputs has length {len(coords1)} and {len(coords2)} and the output has shape {dist.shape}')\n",
    "print()\n",
    "print(f'The distance between the first coordinate in each array is: {dist[0]}')"
   ]
  },
  {
   "cell_type": "markdown",
   "metadata": {
    "slideshow": {
     "slide_type": "slide"
    }
   },
   "source": [
    "### `calc_angles` & `calc_dihedrals`\n",
    "\n",
    "Calculates either the angle or dihedral angle between 3 or 4 arrays of coordinates.\n",
    "Takes 3 or 4 arrays of **identical length** coordinates.\n",
    "\n",
    "For angles, the middle array is the apex of the angle.\n",
    "\n",
    "For dihedrals, the angle is formed between the plane of the first three coordinates, and the plane of the second three coordinates.\n"
   ]
  },
  {
   "cell_type": "code",
   "execution_count": null,
   "metadata": {
    "cell_style": "center",
    "slideshow": {
     "slide_type": "-"
    }
   },
   "outputs": [],
   "source": [
    "import numpy as np\n",
    "coords1 = u.atoms[:10].positions\n",
    "coords2 = u.atoms[10:20].positions\n",
    "coords3 = u.atoms[20:30].positions\n",
    "\n",
    "angles = distances.calc_angles(\n",
    "            coords1, coords2, coords3,\n",
    "            box=None, result=None)\n",
    "\n",
    "print(np.rad2deg(angles))\n",
    "\n",
    "\n",
    "coords4 = u.atoms[30:40].positions\n",
    "\n",
    "dihedrals = distances.calc_dihedrals(coords1, coords2, coords3, coords4)"
   ]
  },
  {
   "cell_type": "markdown",
   "metadata": {
    "slideshow": {
     "slide_type": "slide"
    }
   },
   "source": [
    "# Minimum image convention\n",
    "\n",
    "To account for periodic boundary conditions in distance calculations,\n",
    "pass the box information as `box=ag.dimensions` to any distance or angle function.\n",
    "\n",
    "This makes the distance calculation take the minimum image convention into account when calculating distance,\n",
    "which makes the measured distances equal to the minimum possible between all periodic images of the two coordinates."
   ]
  },
  {
   "cell_type": "code",
   "execution_count": null,
   "metadata": {},
   "outputs": [],
   "source": [
    "print(f'The box size of our Universe is {u.dimensions}')"
   ]
  },
  {
   "cell_type": "code",
   "execution_count": null,
   "metadata": {},
   "outputs": [],
   "source": [
    "protein = u.select_atoms('protein')\n",
    "\n",
    "print(f'The maximum distance without periodic boundaries is {distances.self_distance_array(protein).max()}')\n",
    "\n",
    "print(f'The maximum distance with periodic boundaries is {distances.self_distance_array(protein, box=u.dimensions).max()}')"
   ]
  },
  {
   "cell_type": "markdown",
   "metadata": {
    "slideshow": {
     "slide_type": "slide"
    }
   },
   "source": [
    "# `capped_distance` and `self_capped_distance`\n",
    "\n",
    "Only find distances up to a maximum limit. It returns:\n",
    "- an array of indices\n",
    "- an array of distances\n",
    "\n",
    "This is much more efficient when dealing with large (>50,000 atoms) systems."
   ]
  },
  {
   "cell_type": "markdown",
   "metadata": {
    "slideshow": {
     "slide_type": "subslide"
    }
   },
   "source": [
    "For example, the start of a hydrogen bond analysis might look like:"
   ]
  },
  {
   "cell_type": "code",
   "execution_count": null,
   "metadata": {
    "cell_style": "center",
    "slideshow": {
     "slide_type": "-"
    }
   },
   "outputs": [],
   "source": [
    "hydrogens = u.select_atoms('resname SOL and type H')\n",
    "acceptor = u.select_atoms('protein and type N O')\n",
    "\n",
    "print(f'We have {len(hydrogens)} hydrogens and {len(acceptor)} acceptors')\n",
    "\n",
    "ix, dist = distances.capped_distance(hydrogens.positions, \n",
    "                          acceptor.positions, \n",
    "                          min_cutoff =1.0,\n",
    "                          max_cutoff=4.0,\n",
    "                          box=u.dimensions)\n",
    "\n",
    "print(f'We found {len(ix)} contacts less then 4.0 A')\n",
    "print()\n",
    "print(f'The first three are {ix[:3]} at distances {dist[:3]}')"
   ]
  },
  {
   "cell_type": "markdown",
   "metadata": {
    "slideshow": {
     "slide_type": "subslide"
    }
   },
   "source": [
    "We can see that capped_distance is approximately 10x faster than the brute force solution."
   ]
  },
  {
   "cell_type": "code",
   "execution_count": null,
   "metadata": {},
   "outputs": [],
   "source": [
    "%timeit distances.distance_array(hydrogens.positions, acceptor.positions, box=u.dimensions)"
   ]
  },
  {
   "cell_type": "code",
   "execution_count": null,
   "metadata": {},
   "outputs": [],
   "source": [
    "%timeit distances.capped_distance(hydrogens.positions, acceptor.positions, min_cutoff=1.0, max_cutoff=4.0, box=u.dimensions)"
   ]
  },
  {
   "cell_type": "markdown",
   "metadata": {
    "slideshow": {
     "slide_type": "slide"
    }
   },
   "source": [
    "# A summary of Lecture 2\n",
    "\n",
    "Calculating pairwise distances:\n",
    "- calc_bonds\n",
    "- distance_array\n",
    "- self_distance_array\n",
    "\n",
    "Faster, sparse pairwise distances:\n",
    "- capped_distance\n",
    "- self_capped_distance\n",
    "\n",
    "Calculating angles:\n",
    "- calc_angles\n",
    "- calc_dihedrals\n",
    "\n",
    "Use `box=u.dimensions` to take minimum image convention into account (if you want to!)."
   ]
  }
 ],
 "metadata": {
  "celltoolbar": "Slideshow",
  "hide_input": false,
  "kernelspec": {
   "display_name": "Python 3 (ipykernel)",
   "language": "python",
   "name": "python3"
  },
  "language_info": {
   "codemirror_mode": {
    "name": "ipython",
    "version": 3
   },
   "file_extension": ".py",
   "mimetype": "text/x-python",
   "name": "python",
   "nbconvert_exporter": "python",
   "pygments_lexer": "ipython3",
   "version": "3.11.8"
  },
  "toc": {
   "base_numbering": 1,
   "nav_menu": {},
   "number_sections": true,
   "sideBar": true,
   "skip_h1_title": false,
   "title_cell": "Table of Contents",
   "title_sidebar": "Contents",
   "toc_cell": false,
   "toc_position": {},
   "toc_section_display": true,
   "toc_window_display": false
  }
 },
 "nbformat": 4,
 "nbformat_minor": 4
}
